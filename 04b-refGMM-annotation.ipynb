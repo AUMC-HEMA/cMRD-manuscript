{
 "cells": [
  {
   "cell_type": "code",
   "execution_count": null,
   "id": "f44ec6fe",
   "metadata": {},
   "outputs": [],
   "source": [
    "import os\n",
    "import pandas as pd\n",
    "import numpy as np\n",
    "from fcsy import DataFrame\n",
    "import joblib"
   ]
  },
  {
   "cell_type": "markdown",
   "id": "0fbf6b30",
   "metadata": {},
   "source": [
    "# Set-up"
   ]
  },
  {
   "cell_type": "code",
   "execution_count": null,
   "id": "559d17a6",
   "metadata": {},
   "outputs": [],
   "source": [
    "# INPUT FOLDERS\n",
    "LAIP29_FCS_path = \"data/LAIP29/FCS/\"\n",
    "LAIP29_label_path = \"<ENTER PATH>\"\n",
    "\n",
    "# These files are confidential and will not be shared online\n",
    "# This is the location of the preprocessed RBM18 files\n",
    "RBM18_FCS_path = \"data/RBM18/FCS/\"\n",
    "# This is the location of the RBM18 labels\n",
    "RBM18_label_path = \"<ENTER PATH>\"\n",
    "\n",
    "# OUTPUT FOLDERS\n",
    "RBM18_output = \"output/RBM18\"\n",
    "BLAST110_output = \"output/BLAST110\"\n",
    "LAIP29_output = \"output/LAIP29\"\n",
    "\n",
    "features = [\"SSC-A_scaled\", \"Horizon V500-A\", \"PerCP-A\", \"PC7-A\"]\n",
    "markers = [\"FITC-A\", \"PE-A\", \"PerCP-A\", \"PC7-A\", \"APC-A\", \n",
    "           \"APC-H7-A\", \"Horizon V450-A\", \"Horizon V500-A\"]"
   ]
  },
  {
   "cell_type": "markdown",
   "id": "87110d44",
   "metadata": {},
   "source": [
    "# Load models"
   ]
  },
  {
   "cell_type": "code",
   "execution_count": null,
   "id": "43637375",
   "metadata": {},
   "outputs": [],
   "source": [
    "# Load the GMMclf\n",
    "clf = joblib.load(BLAST110_output+\"/GMMclf.pkl\")\n",
    "\n",
    "# Load the reference models and quantiles\n",
    "refGMMs = {\"GMMclf\":{}, \"manual\":{}}\n",
    "percentiles = {\"GMMclf\":{}, \"manual\":{}}\n",
    "for gating in [\"GMMclf\", \"manual\"]:\n",
    "    for tube in [\"P1\", \"P2\", \"P3\", \"P4\"]:\n",
    "        refGMMs[gating][tube] = joblib.load(RBM18_output+\"/GMMref_\"+tube+\"_\"+gating+\".pkl\")"
   ]
  },
  {
   "cell_type": "markdown",
   "id": "1b6c96e1",
   "metadata": {},
   "source": [
    "# Generate model components for RBM18"
   ]
  },
  {
   "cell_type": "code",
   "execution_count": null,
   "id": "e4f92854",
   "metadata": {},
   "outputs": [],
   "source": [
    "percentages = {\"GMMclf\": [], \"manual\": []}\n",
    "if not os.path.exists(RBM18_output+\"/labels/\"):\n",
    "    os.makedirs(RBM18_output+\"/labels/\")\n",
    "    for root, dirs, files in os.walk(RBM18_FCS_path):\n",
    "        for file in files:\n",
    "            print(file)\n",
    "            sample_id = \"_\".join(file.split(\"_\")[0:3])\n",
    "            patient_id = \"_\".join(file.split(\"_\")[0:2])\n",
    "            tube = file.split('_')[2]\n",
    "            ff = DataFrame.from_fcs(root+file)\n",
    "            labels = pd.read_csv(RBM18_label_path+sample_id+\".csv\", index_col=0, low_memory=False)\n",
    "            ff = pd.merge(ff, labels)\n",
    "            WBC = len(ff[ff[\"WBC\"]==1])\n",
    "            ff[\"GMMclf\"] = clf.predict(ff[features])\n",
    "            for gating in [\"manual\", \"GMMclf\"]:\n",
    "                ff[\"GMMref_\"+gating+\"_component\"] = refGMMs[gating][tube].predict(ff[markers])\n",
    "                ff[\"GMMref_\"+gating+\"_component\"] = ff[\"GMMref_\"+gating+\"_component\"] + 1\n",
    "                # Get the component percentages\n",
    "                if gating == \"manual\":\n",
    "                    subset = ff[ff[\"Blast\"]==1]\n",
    "                else:\n",
    "                    subset = ff[ff[\"GMMclf\"]==1]\n",
    "                counts = pd.DataFrame(subset[\"GMMref_\"+gating+\"_component\"].value_counts())\n",
    "                counts = counts.transpose().reset_index(drop=True)\n",
    "                percentage = (counts / WBC) * 100\n",
    "                percentage[\"patient_id\"] = patient_id\n",
    "                percentage[\"sample_id\"] = sample_id\n",
    "                percentage[\"tube\"] = tube\n",
    "                percentages[gating].append(percentage)\n",
    "            ff = ff[[\"event_ID\", \"Blast\", \"GMMclf\", \"GMMref_manual_component\", \"GMMref_GMMclf_component\"]]\n",
    "            ff.to_csv(RBM18_output+\"/labels/\"+sample_id+\".csv\")"
   ]
  }
 ],
 "metadata": {
  "kernelspec": {
   "display_name": "Python 3 (ipykernel)",
   "language": "python",
   "name": "python3"
  },
  "language_info": {
   "codemirror_mode": {
    "name": "ipython",
    "version": 3
   },
   "file_extension": ".py",
   "mimetype": "text/x-python",
   "name": "python",
   "nbconvert_exporter": "python",
   "pygments_lexer": "ipython3",
   "version": "3.9.10"
  }
 },
 "nbformat": 4,
 "nbformat_minor": 5
}

{
 "cells": [
  {
   "cell_type": "code",
   "execution_count": null,
   "id": "382ba139",
   "metadata": {},
   "outputs": [],
   "source": [
    "# Data (pre-)processing\n",
    "import os\n",
    "import pandas as pd\n",
    "import numpy as np\n",
    "from fcsy import DataFrame\n",
    "\n",
    "import joblib\n",
    "\n",
    "from datetime import datetime"
   ]
  },
  {
   "cell_type": "code",
   "execution_count": null,
   "id": "7d66e06b",
   "metadata": {},
   "outputs": [],
   "source": [
    "# INPUT FOLDERS\n",
    "# Path of preprocessed LAIP29 FCS files\n",
    "LAIP29_FCS_path = \"data/LAIP29/FCS/\"\n",
    "\n",
    "# OUTPUT FOLDERS\n",
    "BLAST110_output = \"output/BLAST110\"\n",
    "LAIP29_output = \"output/LAIP29\"\n",
    "RBM18_output = \"output/RBM18\""
   ]
  },
  {
   "cell_type": "code",
   "execution_count": null,
   "id": "20d5dbe5",
   "metadata": {},
   "outputs": [],
   "source": [
    "# Define which markers we used for blast prediction\n",
    "features = [\"SSC-A_scaled\", \"Horizon V500-A\", \"PerCP-A\", \"PC7-A\"]\n",
    "# Markers used for reference models\n",
    "markers = [\"FITC-A\", \"PE-A\", \"PerCP-A\", \"PC7-A\", \"APC-A\", \n",
    "           \"APC-H7-A\", \"Horizon V450-A\", \"Horizon V500-A\"]"
   ]
  },
  {
   "cell_type": "code",
   "execution_count": null,
   "id": "f04f610d",
   "metadata": {},
   "outputs": [],
   "source": [
    "# Load the GMMclf\n",
    "clf = joblib.load(BLAST110_output+\"/GMMclf.pkl\")\n",
    "\n",
    "# Load the WBC regressor\n",
    "reg = joblib.load(BLAST110_output+\"/GMMclf_WBCreg.pkl\")\n",
    "\n",
    "ref_data = {\"GMMclf\":{}, \"manual\":{}}\n",
    "for gating in [\"GMMclf\", \"manual\"]:\n",
    "    for tube in [\"P1\", \"P2\", \"P3\", \"P4\"]:\n",
    "        ref_data[gating][tube] = pd.read_csv(RBM18_output+\"/RBM18_\"+tube+\"_blasts_\"+gating+\".csv\", index_col=0)\n",
    "        \n",
    "# Load the reference models and quantiles\n",
    "refGMMs = {\"GMMclf\":{}, \"manual\":{}}\n",
    "percentiles = {\"GMMclf\":{}, \"manual\":{}}\n",
    "for gating in [\"GMMclf\", \"manual\"]:\n",
    "    for tube in [\"P1\", \"P2\", \"P3\", \"P4\"]:\n",
    "        refGMMs[gating][tube] = joblib.load(RBM18_output+\"/GMMref_\"+tube+\"_\"+gating+\".pkl\")\n",
    "        cutoffs = pd.read_csv(RBM18_output+\"/GMMref_\"+tube+\"_\"+gating+\"_percentiles.csv\", index_col=0)\n",
    "        percentiles[gating][tube] = cutoffs.to_dict(orient='records')[0]"
   ]
  },
  {
   "cell_type": "code",
   "execution_count": null,
   "id": "fab39081",
   "metadata": {},
   "outputs": [],
   "source": [
    "all_results = []\n",
    "\n",
    "for root, dirs, files in os.walk(LAIP29_FCS_path):\n",
    "    for file in files:\n",
    "        print(file)\n",
    "        sample_id = \"_\".join(file.split(\"_\")[0:4])\n",
    "        patient_id = \"_\".join(file.split(\"_\")[0:2])\n",
    "        timepoint = file.split(\"_\")[2]\n",
    "        tube = file.split('_')[3]\n",
    "        \n",
    "        results = {}\n",
    "        results[\"file\"] = file\n",
    "        \n",
    "        startTime = datetime.now()\n",
    "        ff = DataFrame.from_fcs(root+file)\n",
    "        results[\"read FCS (py)\"] = datetime.now() - startTime\n",
    "        \n",
    "        # Predict blasts\n",
    "        startTime = datetime.now()\n",
    "        ff[\"GMMclf\"] = clf.predict(ff[features])\n",
    "        results[\"GMMclf\"] = datetime.now() - startTime\n",
    "        ff = ff[ff[\"GMMclf\"]==1]\n",
    "        \n",
    "        # Predict and save the WBC counts\n",
    "        startTime = datetime.now()\n",
    "        ff[\"NB_GMM_cluster\"] = clf.gmm_class0.predict(ff[features])\n",
    "        counts = pd.DataFrame(ff[\"NB_GMM_cluster\"].value_counts())\n",
    "        counts = counts.transpose().reset_index(drop=True)\n",
    "        for i in range(0, clf.gmm_class0.n_components):\n",
    "            if i not in counts:\n",
    "                counts[i] = 0\n",
    "        count_cols = [i for i in range(0, clf.gmm_class0.n_components)]\n",
    "        WBC_count_pred = int(reg.predict(counts[count_cols]))\n",
    "        results[\"WBC\"] = datetime.now() - startTime\n",
    "\n",
    "        # GMM\n",
    "        ref_model = refGMMs[\"GMMclf\"][tube]\n",
    "        \n",
    "        startTime = datetime.now()\n",
    "        scores = ref_model.score_samples(ff[markers])\n",
    "        results[\"LLR\"] = datetime.now() - startTime\n",
    "        all_results.append(results)\n",
    "all_results = pd.DataFrame(all_results)"
   ]
  },
  {
   "cell_type": "code",
   "execution_count": null,
   "id": "a2f10440",
   "metadata": {},
   "outputs": [],
   "source": [
    "# Merge with previous results from R\n",
    "R_results = pd.read_csv(BLAST110_output + \"/R_timing.csv\", index_col=0)\n",
    "R_results[\"file\"] = [i.split(\"/\")[-1] for i in R_results[\"file\"]]\n",
    "all_results = pd.merge(all_results, R_results)"
   ]
  },
  {
   "cell_type": "code",
   "execution_count": null,
   "id": "a545e09c",
   "metadata": {},
   "outputs": [],
   "source": [
    "# Convert to right format\n",
    "for col in all_results.columns:\n",
    "    if col in [\"read FCS (py)\", \"GMMclf\", \"WBC\", \"LLR\"]:\n",
    "        all_results[col] = [i.total_seconds() for i in all_results[col]]"
   ]
  },
  {
   "cell_type": "code",
   "execution_count": null,
   "id": "b8c0e2eb",
   "metadata": {},
   "outputs": [],
   "source": [
    "# Calculate the mean for all numerical columns\n",
    "all_results['Sum'] = all_results.select_dtypes(include=[int, float]).sum(axis=1)\n",
    "mean_values = all_results.select_dtypes(include=[int, float]).mean()\n",
    "\n",
    "# Calculate the standard deviation for all numerical columns\n",
    "std_values = all_results.select_dtypes(include=[int, float]).std()\n",
    "\n",
    "print(\"Mean values:\\n\", mean_values)\n",
    "print(\"\\nStandard Deviation values:\\n\", std_values)"
   ]
  }
 ],
 "metadata": {
  "kernelspec": {
   "display_name": "Python 3 (ipykernel)",
   "language": "python",
   "name": "python3"
  },
  "language_info": {
   "codemirror_mode": {
    "name": "ipython",
    "version": 3
   },
   "file_extension": ".py",
   "mimetype": "text/x-python",
   "name": "python",
   "nbconvert_exporter": "python",
   "pygments_lexer": "ipython3",
   "version": "3.9.10"
  }
 },
 "nbformat": 4,
 "nbformat_minor": 5
}

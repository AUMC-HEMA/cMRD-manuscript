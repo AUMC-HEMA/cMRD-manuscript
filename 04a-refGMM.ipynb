{
 "cells": [
  {
   "cell_type": "code",
   "execution_count": 1,
   "id": "d4712459",
   "metadata": {},
   "outputs": [],
   "source": [
    "# Data pre-processing\n",
    "import os\n",
    "import pandas as pd\n",
    "import numpy as np\n",
    "from fcsy import DataFrame\n",
    "import joblib\n",
    "\n",
    "# Modeling\n",
    "from sklearn.mixture import GaussianMixture\n",
    "from sklearn.model_selection import LeaveOneGroupOut, GridSearchCV"
   ]
  },
  {
   "cell_type": "markdown",
   "id": "c55f495a",
   "metadata": {},
   "source": [
    "# Set-up"
   ]
  },
  {
   "cell_type": "code",
   "execution_count": 6,
   "id": "34adf8cb",
   "metadata": {},
   "outputs": [],
   "source": [
    "# These files are confidential and will not be shared online\n",
    "# This is the location of the preprocessed RBM18 files\n",
    "RBM18_FCS_path = \"data/RBM18/FCS/\"\n",
    "# This is the location of the RBM18 labels\n",
    "RBM18_label_path = \"<ENTER PATH>\"\n",
    "\n",
    "blast_features = [\"SSC-A_scaled\", \"Horizon V500-A\", \"PerCP-A\", \"PC7-A\"]\n",
    "markers = [\"FITC-A\", \"PE-A\", \"PerCP-A\", \"PC7-A\", \"APC-A\", \n",
    "           \"APC-H7-A\", \"Horizon V450-A\", \"Horizon V500-A\"]\n",
    "\n",
    "RBM18_output = \"output/RBM18\"\n",
    "BLAST110_output = \"output/BLAST110\"\n",
    "\n",
    "n_jobs = -10"
   ]
  },
  {
   "cell_type": "markdown",
   "id": "e0fd1897",
   "metadata": {},
   "source": [
    "# Create aggregated datasets"
   ]
  },
  {
   "cell_type": "markdown",
   "id": "9614bab5",
   "metadata": {},
   "source": [
    "We create two aggregated datasets containing blasts from all 18 samples:\n",
    "* Manually gated blasts\n",
    "* Predicted blasts\n",
    "\n",
    "Both datasets contain a maximum of 4,000 cells per sample."
   ]
  },
  {
   "cell_type": "code",
   "execution_count": 4,
   "id": "a786e2ff",
   "metadata": {},
   "outputs": [],
   "source": [
    "if not os.path.exists(RBM18_output+\"/RBM18_P4_blasts_GMMclf.csv\"):\n",
    "    os.makedirs(RBM18_output)\n",
    "\n",
    "    # Load the GMMclf\n",
    "    clf = joblib.load(BLAST110_output+\"/GMMclf.pkl\")\n",
    "\n",
    "    RBM_manual = {'P1':[], 'P2':[], 'P3':[], 'P4':[]}\n",
    "    RBM_GMMclf = {'P1':[], 'P2':[], 'P3':[], 'P4':[]}\n",
    "    for root, dirs, files in os.walk(RBM18_FCS_path):\n",
    "        for file in files:\n",
    "            sample_id = \"_\".join(file.split(\"_\")[0:3])\n",
    "            patient_id = \"_\".join(file.split(\"_\")[0:2])\n",
    "            tube = file.split('_')[2]\n",
    "            ff = DataFrame.from_fcs(root+file)\n",
    "            ff[\"patient_id\"] = patient_id\n",
    "            ff[\"sample_id\"] = sample_id\n",
    "            labels = pd.read_csv(RBM18_label_path+sample_id+\".csv\", index_col=0, low_memory=False)\n",
    "            ff = pd.merge(ff, labels)\n",
    "            # Remove residual LAIPs identified in manual gating\n",
    "            ff = ff[ff['LAIP']==0]\n",
    "            \n",
    "            # Downsample and save the manually gated blasts\n",
    "            manual_blasts = ff[ff[\"Blast\"] == 1]\n",
    "            if len(manual_blasts) > 4000:\n",
    "                manual_blasts = manual_blasts.sample(n = 4000, random_state=42)\n",
    "            RBM_manual[tube].append(manual_blasts)\n",
    "\n",
    "            # Downsample and save the predicted blasts\n",
    "            ff[\"GMMclf\"] = clf.predict(ff[blast_features])\n",
    "            GMMclf_blasts = ff[ff[\"GMMclf\"] == 1]\n",
    "            if len(GMMclf_blasts) > 4000:\n",
    "                GMMclf_blasts = GMMclf_blasts.sample(n = 4000, random_state=42)\n",
    "            RBM_GMMclf[tube].append(GMMclf_blasts)\n",
    "            \n",
    "    for tube in [\"P1\", \"P2\", \"P3\", \"P4\"]:\n",
    "        manual_blasts = pd.concat(RBM_manual[tube]).reset_index(drop=True)\n",
    "        manual_blasts.to_csv(RBM18_output+\"/RBM18_\"+tube+\"_blasts_manual.csv\")\n",
    "\n",
    "        GMMclf_blasts = pd.concat(RBM_GMMclf[tube]).reset_index(drop=True)\n",
    "        GMMclf_blasts.to_csv(RBM18_output+\"/RBM18_\"+tube+\"_blasts_GMMclf.csv\")"
   ]
  },
  {
   "cell_type": "markdown",
   "id": "c95b450d",
   "metadata": {},
   "source": [
    "# Train reference models"
   ]
  },
  {
   "cell_type": "markdown",
   "id": "7a41cd17",
   "metadata": {},
   "source": [
    "The K parameter in each GMM is optimized using the BIC score and LOOCV."
   ]
  },
  {
   "cell_type": "code",
   "execution_count": 5,
   "id": "3a7620fc",
   "metadata": {},
   "outputs": [],
   "source": [
    "# BIC optimizer from https://scikit-learn.org/stable/auto_examples/mixture/plot_gmm_selection.html\n",
    "def gmm_bic_score(estimator, X):\n",
    "    \"\"\"Callable to pass to GridSearchCV that will use the BIC score.\"\"\"\n",
    "    # Make it negative since GridSearchCV expects a score to maximize\n",
    "    return -estimator.bic(X)"
   ]
  },
  {
   "cell_type": "code",
   "execution_count": 8,
   "id": "fb42d02e",
   "metadata": {},
   "outputs": [],
   "source": [
    "# Train model for manual blast gating\n",
    "for gating in [\"manual\", \"GMMclf\"]:\n",
    "    if not os.path.exists(RBM18_output+\"/GMMref_P4_\"+gating+\".pkl\"):\n",
    "        for tube in [\"P1\", \"P2\", \"P3\", \"P4\"]:\n",
    "            data = pd.read_csv(RBM18_output+\"/RBM18_\"+tube+\"_blasts_\"+gating+\".csv\")\n",
    "            X = data[markers]\n",
    "            groups = data[\"patient_id\"]\n",
    "            CV = LeaveOneGroupOut()\n",
    "            param_grid = {\"n_components\": range(1, 16)}\n",
    "            gmm = GaussianMixture(random_state=42)\n",
    "            opt = GridSearchCV(gmm, param_grid=param_grid, \n",
    "                               scoring=gmm_bic_score, cv=CV, n_jobs=n_jobs)\n",
    "            opt.fit(X, groups=groups)\n",
    "            \n",
    "            # Save gridsearch results\n",
    "            pd.DataFrame(opt.cv_results_).to_csv(RBM18_output+\"/GMMref_\"+tube+\"_\"+gating+\"_gridsearch.csv\")\n",
    "            \n",
    "            gmm = opt.best_estimator_\n",
    "            joblib.dump(gmm, RBM18_output+\"/GMMref_\"+tube+\"_\"+gating+\".pkl\")"
   ]
  },
  {
   "cell_type": "markdown",
   "id": "08f41d6c",
   "metadata": {},
   "source": [
    "# Identify log-likelihood percentiles"
   ]
  },
  {
   "cell_type": "code",
   "execution_count": 9,
   "id": "0a067fbf",
   "metadata": {},
   "outputs": [],
   "source": [
    "cutoffs = [0.1, 1, 2.5, 5, 10, 25, 50]\n",
    "for gating in [\"manual\", \"GMMclf\"]:\n",
    "    if not os.path.exists(RBM18_output+\"/GMMref_P4_\"+gating+\"_percentiles.csv\"):\n",
    "        for tube in [\"P1\", \"P2\", \"P3\", \"P4\"]:\n",
    "            data = pd.read_csv(RBM18_output+\"/RBM18_\"+tube+\"_blasts_\"+gating+\".csv\")\n",
    "            gmm = joblib.load(RBM18_output+\"/GMMref_\"+tube+\"_\"+gating+\".pkl\")\n",
    "            llr = gmm.score_samples(data[markers])\n",
    "            \n",
    "            cutoff_dict = {}\n",
    "            for cutoff in cutoffs:\n",
    "                cutoff_dict[str(cutoff)] =  np.percentile(llr, cutoff)\n",
    "            output = pd.DataFrame([cutoff_dict])\n",
    "            output.to_csv(RBM18_output+\"/GMMref_\"+tube+\"_\"+gating+\"_percentiles.csv\")"
   ]
  }
 ],
 "metadata": {
  "kernelspec": {
   "display_name": "Python 3 (ipykernel)",
   "language": "python",
   "name": "python3"
  },
  "language_info": {
   "codemirror_mode": {
    "name": "ipython",
    "version": 3
   },
   "file_extension": ".py",
   "mimetype": "text/x-python",
   "name": "python",
   "nbconvert_exporter": "python",
   "pygments_lexer": "ipython3",
   "version": "3.9.10"
  }
 },
 "nbformat": 4,
 "nbformat_minor": 5
}

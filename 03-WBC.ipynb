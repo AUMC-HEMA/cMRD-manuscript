{
 "cells": [
  {
   "cell_type": "code",
   "execution_count": null,
   "id": "e3ee00cc",
   "metadata": {},
   "outputs": [],
   "source": [
    "# Data (pre-)processing\n",
    "import os\n",
    "import pandas as pd\n",
    "import numpy as np\n",
    "from fcsy import DataFrame\n",
    "\n",
    "# Performance & evaluation\n",
    "from sklearn.model_selection import LeaveOneGroupOut, cross_val_predict\n",
    "\n",
    "# Modeling\n",
    "from sklearn.linear_model import LinearRegression\n",
    "import joblib"
   ]
  },
  {
   "cell_type": "markdown",
   "id": "37fb6627",
   "metadata": {},
   "source": [
    "# Set-up"
   ]
  },
  {
   "cell_type": "code",
   "execution_count": null,
   "id": "f52ad43b",
   "metadata": {},
   "outputs": [],
   "source": [
    "# INPUT FOLDERS\n",
    "# Path of preprocessed BLAST110 FCS files\n",
    "BLAST110_FCS_path = \"data/BLAST110/FCS/\"\n",
    "# Path of BLAST110 labeling\n",
    "BLAST110_label_path = \"<ENTER PATH>\"\n",
    "\n",
    "# Path of preprocessed LAIP29 FCS files\n",
    "LAIP29_FCS_path = \"data/LAIP29/FCS/\"\n",
    "# Path of LAIP29 labeling\n",
    "LAIP29_label_path = \"<ENTER PATH>\"\n",
    "\n",
    "# OUTPUT FOLDERS\n",
    "BLAST110_output = \"output/BLAST110\"\n",
    "LAIP29_output = \"output/LAIP29\"\n",
    "\n",
    "# Path of trained GMM classifier\n",
    "clf = joblib.load(BLAST110_output+\"/GMMclf.pkl\")"
   ]
  },
  {
   "cell_type": "code",
   "execution_count": null,
   "id": "969a37fa",
   "metadata": {},
   "outputs": [],
   "source": [
    "# Define which markers used for blast prediction\n",
    "features = [\"SSC-A_scaled\", \"Horizon V500-A\", \"PerCP-A\", \"PC7-A\"]"
   ]
  },
  {
   "cell_type": "markdown",
   "id": "94a8b975",
   "metadata": {},
   "source": [
    "# Create train and test datasets"
   ]
  },
  {
   "cell_type": "markdown",
   "id": "6b8e4f0c",
   "metadata": {},
   "source": [
    "Datasets are obtained by calculating the number of cells belonging to each of the GMMclf non-blast components"
   ]
  },
  {
   "cell_type": "code",
   "execution_count": null,
   "id": "35dac940",
   "metadata": {},
   "outputs": [],
   "source": [
    "def get_component_counts(file, label_path, sample_id, patient_id):\n",
    "    ff = DataFrame.from_fcs(file)\n",
    "    labels = pd.read_csv(label_path, index_col=0)\n",
    "    ff = pd.merge(ff, labels)\n",
    "    # Predict the clusters based on the non-blast GMM\n",
    "    ff[\"NB_GMM_cluster\"] = clf.gmm_class0.predict(ff[features])\n",
    "    # Format the component counts\n",
    "    counts = pd.DataFrame(ff[\"NB_GMM_cluster\"].value_counts())\n",
    "    counts = counts.transpose().reset_index(drop=True)\n",
    "    counts[\"sample_id\"] = sample_id\n",
    "    counts[\"patient_id\"] = patient_id\n",
    "    counts[\"WBC_count\"] = len(ff[ff[\"WBC\"]==1])\n",
    "    return(counts)"
   ]
  },
  {
   "cell_type": "code",
   "execution_count": null,
   "id": "dd7f27cf",
   "metadata": {},
   "outputs": [],
   "source": [
    "if not os.path.exists(BLAST110_output + \"/BLAST110_GMMclf_NB_counts.csv\"):\n",
    "    data_train = []\n",
    "    for root, dirs, files in os.walk(BLAST110_FCS_path):\n",
    "        for file in files:\n",
    "            sample_id = \"_\".join(file.split(\"_\")[0:3])\n",
    "            patient_id = \"_\".join(file.split(\"_\")[0:2])\n",
    "            label_path = BLAST110_label_path+sample_id+\".csv\"\n",
    "            counts = get_component_counts(root+file, label_path, sample_id, patient_id)\n",
    "            data_train.append(counts)\n",
    "    data_train = pd.concat(data_train)\n",
    "    data_train.to_csv(BLAST110_output + \"/BLAST110_GMMclf_NB_counts.csv\")\n",
    "\n",
    "if not os.path.exists(LAIP29_output + \"/LAIP29_GMMclf_NB_counts.csv\"):\n",
    "    data_test = []\n",
    "    for root, dirs, files in os.walk(LAIP29_FCS_path):\n",
    "        for file in files:\n",
    "            sample_id = \"_\".join(file.split(\"_\")[0:4])\n",
    "            patient_id = \"_\".join(file.split(\"_\")[0:2])\n",
    "            label_path = LAIP29_label_path+sample_id+\".csv\"\n",
    "            counts = get_component_counts(root+file, label_path, sample_id, patient_id)\n",
    "            data_test.append(counts)     \n",
    "    data_test = pd.concat(data_test)\n",
    "    data_test.to_csv(LAIP29_output + \"/LAIP29_GMMclf_NB_counts.csv\")"
   ]
  },
  {
   "cell_type": "markdown",
   "id": "b5cbbb6b",
   "metadata": {},
   "source": [
    "# Modeling"
   ]
  },
  {
   "cell_type": "code",
   "execution_count": null,
   "id": "b3881f1d",
   "metadata": {},
   "outputs": [],
   "source": [
    "features = [str(i) for i in range(0, clf.gmm_class0.n_components)]\n",
    "model = LinearRegression()\n",
    "logo = LeaveOneGroupOut()\n",
    "\n",
    "if not os.path.exists(BLAST110_output + \"/BLAST110_GMMclf_WBC_predictions.csv\"):\n",
    "    data_train = pd.read_csv(BLAST110_output + \"/BLAST110_GMMclf_NB_counts.csv\")\n",
    "    data_train[\"WBC_count_pred\"] = cross_val_predict(model, data_train[features], \n",
    "                                                     data_train[\"WBC_count\"], \n",
    "                                                     groups=data_train[\"patient_id\"], \n",
    "                                                     cv=logo)\n",
    "    data_train[\"WBC_count_pred\"] = data_train[\"WBC_count_pred\"].astype(int)\n",
    "    data_train.to_csv(BLAST110_output + \"/BLAST110_GMMclf_WBC_predictions.csv\")\n",
    "    \n",
    "if not os.path.exists(LAIP29_output + \"/LAIP29_GMMclf_WBC_predictions.csv\"):\n",
    "    data_test = pd.read_csv(LAIP29_output + \"/LAIP29_GMMclf_NB_counts.csv\")\n",
    "    # Train the final model and get test set predictions\n",
    "    model.fit(data_train[features], data_train[\"WBC_count\"])\n",
    "    \n",
    "    joblib.dump(model, BLAST110_output+\"/GMMclf_WBCreg.pkl\")\n",
    "\n",
    "    data_test[\"WBC_count_pred\"] = model.predict(data_test[features])\n",
    "    data_test[\"WBC_count_pred\"] = data_test[\"WBC_count_pred\"].astype(int)\n",
    "    data_test.to_csv(LAIP29_output + \"/LAIP29_GMMclf_WBC_predictions.csv\")"
   ]
  }
 ],
 "metadata": {
  "kernelspec": {
   "display_name": "Python 3 (ipykernel)",
   "language": "python",
   "name": "python3"
  },
  "language_info": {
   "codemirror_mode": {
    "name": "ipython",
    "version": 3
   },
   "file_extension": ".py",
   "mimetype": "text/x-python",
   "name": "python",
   "nbconvert_exporter": "python",
   "pygments_lexer": "ipython3",
   "version": "3.9.10"
  }
 },
 "nbformat": 4,
 "nbformat_minor": 5
}
